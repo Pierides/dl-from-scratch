{
 "cells": [
  {
   "cell_type": "markdown",
   "metadata": {},
   "source": [
    "# 第 9 章：循环神经网络 — PyTorch"
   ]
  },
  {
   "cell_type": "markdown",
   "metadata": {},
   "source": [
    "## 导入 MNIST 数据集"
   ]
  },
  {
   "cell_type": "code",
   "execution_count": 1,
   "metadata": {},
   "outputs": [],
   "source": [
    "import torch\n",
    "import torchvision\n",
    "import torchvision.transforms as transforms\n",
    "import torch.nn as nn\n",
    "import torch.nn.functional as F\n",
    "import torch.optim as optim\n",
    "import matplotlib.pyplot as plt\n",
    "import numpy as np\n",
    "\n",
    "transform = transforms.Compose(\n",
    "    [transforms.ToTensor()])\n",
    "\n",
    "# 训练集\n",
    "trainset = torchvision.datasets.MNIST(root='./datasets/ch08/pytorch',     # 选择数据的根目录\n",
    "                                      train=True,\n",
    "                                      download=True,    # 不从网络上download图片\n",
    "                                      transform=transform)\n",
    "trainloader = torch.utils.data.DataLoader(trainset, batch_size=4,\n",
    "                                         shuffle=True, num_workers=2)\n",
    "# 测试集\n",
    "testset = torchvision.datasets.MNIST(root='./datasets/ch08/pytorch',     # 选择数据的根目录\n",
    "                                     train=False,\n",
    "                                     download=True,    # 不从网络上download图片\n",
    "                                     transform=transform)\n",
    "testloader = torch.utils.data.DataLoader(testset, batch_size=4,\n",
    "                                        shuffle=False, num_workers=2)"
   ]
  },
  {
   "cell_type": "code",
   "execution_count": 2,
   "metadata": {},
   "outputs": [
    {
     "name": "stdout",
     "output_type": "stream",
     "text": [
      "Dataset MNIST\n",
      "    Number of datapoints: 60000\n",
      "    Split: train\n",
      "    Root Location: ./datasets/ch08/pytorch\n",
      "    Transforms (if any): Compose(\n",
      "                             ToTensor()\n",
      "                         )\n",
      "    Target Transforms (if any): None\n"
     ]
    }
   ],
   "source": [
    "print(trainset)"
   ]
  },
  {
   "cell_type": "code",
   "execution_count": 3,
   "metadata": {},
   "outputs": [
    {
     "name": "stdout",
     "output_type": "stream",
     "text": [
      "Dataset MNIST\n",
      "    Number of datapoints: 10000\n",
      "    Split: test\n",
      "    Root Location: ./datasets/ch08/pytorch\n",
      "    Transforms (if any): Compose(\n",
      "                             ToTensor()\n",
      "                         )\n",
      "    Target Transforms (if any): None\n"
     ]
    }
   ],
   "source": [
    "print(testset)"
   ]
  },
  {
   "cell_type": "markdown",
   "metadata": {},
   "source": [
    "接下来展示一些训练样本图像"
   ]
  },
  {
   "cell_type": "code",
   "execution_count": 4,
   "metadata": {},
   "outputs": [
    {
     "data": {
      "image/png": "[encoded data removed]",
      "text/plain": [
       "<Figure size 432x288 with 1 Axes>"
      ]
     },
     "metadata": {
      "needs_background": "light"
     },
     "output_type": "display_data"
    },
    {
     "name": "stdout",
     "output_type": "stream",
     "text": [
      "          0           7           9           6\n"
     ]
    }
   ],
   "source": [
    "def imshow(img):\n",
    "    npimg = img.numpy()\n",
    "    plt.imshow(np.transpose(npimg, (1, 2, 0)))\n",
    "\n",
    "# 选择一个 batch 的图片\n",
    "dataiter = iter(trainloader)\n",
    "images, labels = dataiter.next()\n",
    "\n",
    "# 显示图片\n",
    "imshow(torchvision.utils.make_grid(images))\n",
    "plt.show()\n",
    "# 打印 labels\n",
    "print(' '.join('%11s' % labels[j].numpy() for j in range(4)))"
   ]
  },
  {
   "cell_type": "markdown",
   "metadata": {},
   "source": [
    "## 定义循环神经网络"
   ]
  },
  {
   "cell_type": "code",
   "execution_count": 5,
   "metadata": {},
   "outputs": [],
   "source": [
    "class Net(nn.Module):\n",
    "    def __init__(self):\n",
    "        super(Net, self).__init__()\n",
    "        self.rnn = nn.LSTM(          # 使用 LSTM 结构\n",
    "            input_size = 28,         # 输入每个元素的维度，即图片每行包含 28 个像素点\n",
    "            hidden_size = 84,        # 隐藏层神经元设置为 84 个\n",
    "            num_layers=2,            # 隐藏层数目，两层\n",
    "            batch_first=True,        # 是否将 batch 放在维度的第一位，(batch, time_step, input_size)\n",
    "        )\n",
    "        self.out = nn.Linear(84, 10) # 输出层，包含 10 个神经元，对应 0～9 数字\n",
    "\n",
    "    def forward(self, x):\n",
    "        r_out, (h_n, h_c) = self.rnn(x, None)   \n",
    "        # 选择图片的最后一行作为 RNN 输出\n",
    "        out = self.out(r_out[:, -1, :])\n",
    "        return out"
   ]
  },
  {
   "cell_type": "code",
   "execution_count": 6,
   "metadata": {},
   "outputs": [
    {
     "name": "stdout",
     "output_type": "stream",
     "text": [
      "Net(\n",
      "  (rnn): LSTM(28, 84, num_layers=2, batch_first=True)\n",
      "  (out): Linear(in_features=84, out_features=10, bias=True)\n",
      ")\n"
     ]
    }
   ],
   "source": [
    "net = Net()\n",
    "print(net) "
   ]
  },
  {
   "cell_type": "markdown",
   "metadata": {},
   "source": [
    "## 定义损失函数与优化算法"
   ]
  },
  {
   "cell_type": "code",
   "execution_count": 7,
   "metadata": {},
   "outputs": [],
   "source": [
    "criterion = nn.CrossEntropyLoss()\n",
    "optimizer = optim.Adam(net.parameters(), lr=0.0001)"
   ]
  },
  {
   "cell_type": "markdown",
   "metadata": {},
   "source": [
    "## 训练网络"
   ]
  },
  {
   "cell_type": "code",
   "execution_count": 8,
   "metadata": {},
   "outputs": [
    {
     "name": "stdout",
     "output_type": "stream",
     "text": [
      "[epoch: 1, mini-batch:  2000] loss: 1.592\n",
      "[epoch: 1, mini-batch:  4000] loss: 0.789\n",
      "[epoch: 1, mini-batch:  6000] loss: 0.564\n",
      "[epoch: 1, mini-batch:  8000] loss: 0.429\n",
      "[epoch: 1, mini-batch: 10000] loss: 0.357\n",
      "[epoch: 1, mini-batch: 12000] loss: 0.294\n",
      "[epoch: 1, mini-batch: 14000] loss: 0.290\n",
      "[epoch: 2, mini-batch:  2000] loss: 0.236\n",
      "[epoch: 2, mini-batch:  4000] loss: 0.213\n",
      "[epoch: 2, mini-batch:  6000] loss: 0.196\n",
      "[epoch: 2, mini-batch:  8000] loss: 0.195\n",
      "[epoch: 2, mini-batch: 10000] loss: 0.173\n",
      "[epoch: 2, mini-batch: 12000] loss: 0.161\n",
      "[epoch: 2, mini-batch: 14000] loss: 0.161\n",
      "[epoch: 3, mini-batch:  2000] loss: 0.140\n",
      "[epoch: 3, mini-batch:  4000] loss: 0.124\n",
      "[epoch: 3, mini-batch:  6000] loss: 0.141\n",
      "[epoch: 3, mini-batch:  8000] loss: 0.133\n",
      "[epoch: 3, mini-batch: 10000] loss: 0.121\n",
      "[epoch: 3, mini-batch: 12000] loss: 0.129\n",
      "[epoch: 3, mini-batch: 14000] loss: 0.107\n",
      "[epoch: 4, mini-batch:  2000] loss: 0.110\n",
      "[epoch: 4, mini-batch:  4000] loss: 0.099\n",
      "[epoch: 4, mini-batch:  6000] loss: 0.101\n",
      "[epoch: 4, mini-batch:  8000] loss: 0.101\n",
      "[epoch: 4, mini-batch: 10000] loss: 0.094\n",
      "[epoch: 4, mini-batch: 12000] loss: 0.087\n",
      "[epoch: 4, mini-batch: 14000] loss: 0.098\n",
      "[epoch: 5, mini-batch:  2000] loss: 0.082\n",
      "[epoch: 5, mini-batch:  4000] loss: 0.094\n",
      "[epoch: 5, mini-batch:  6000] loss: 0.082\n",
      "[epoch: 5, mini-batch:  8000] loss: 0.082\n",
      "[epoch: 5, mini-batch: 10000] loss: 0.081\n",
      "[epoch: 5, mini-batch: 12000] loss: 0.078\n",
      "[epoch: 5, mini-batch: 14000] loss: 0.078\n"
     ]
    }
   ],
   "source": [
    "num_epoches = 5    # 设置 epoch 数目\n",
    "cost = []     # 损失函数累加\n",
    "\n",
    "for epoch in range(num_epoches):    \n",
    "\n",
    "    running_loss = 0.0\n",
    "    for i, data in enumerate(trainloader, 0):\n",
    "        # 输入样本和标签\n",
    "        inputs, labels = data\n",
    "        inputs = inputs.view(-1, 28, 28)  # 设置 RNN 输入维度为 (batch, time_step, input_size)\n",
    "\n",
    "        # 每次训练梯度清零\n",
    "        optimizer.zero_grad()\n",
    "\n",
    "        # 正向传播、反向传播和优化过程\n",
    "        outputs = net(inputs)\n",
    "        loss = criterion(outputs, labels)\n",
    "        loss.backward()\n",
    "        optimizer.step()\n",
    "\n",
    "        # 打印训练情况\n",
    "        running_loss += loss.item()\n",
    "        if i % 2000 == 1999:    # 每隔2000 mini-batches，打印一次\n",
    "            print('[epoch: %d, mini-batch: %5d] loss: %.3f' % \n",
    "                 (epoch + 1, i + 1, running_loss / 2000))\n",
    "            cost.append(running_loss / 2000)\n",
    "            running_loss = 0.0"
   ]
  },
  {
   "cell_type": "code",
   "execution_count": 9,
   "metadata": {},
   "outputs": [
    {
     "data": {
      "image/png": "[encoded data removed]",
      "text/plain": [
       "<Figure size 432x288 with 1 Axes>"
      ]
     },
     "metadata": {
      "needs_background": "light"
     },
     "output_type": "display_data"
    }
   ],
   "source": [
    "plt.plot(cost)\n",
    "plt.xlabel('mini-batches(per 2000)')\n",
    "plt.ylabel('running_loss')\n",
    "plt.show()"
   ]
  },
  {
   "cell_type": "markdown",
   "metadata": {},
   "source": [
    "## 测试数据"
   ]
  },
  {
   "cell_type": "code",
   "execution_count": 10,
   "metadata": {},
   "outputs": [
    {
     "name": "stdout",
     "output_type": "stream",
     "text": [
      "Accuracy of the network on the 60000 test images: 96.355 %\n"
     ]
    }
   ],
   "source": [
    "correct = 0\n",
    "total = 0\n",
    "with torch.no_grad():\n",
    "    for data in trainloader:\n",
    "        images, labels = data\n",
    "        images = images.view(-1, 28, 28)\n",
    "        outputs = net(images)\n",
    "        _, predicted = torch.max(outputs.data, 1)\n",
    "        total += labels.size(0)\n",
    "        correct += (predicted == labels).sum().item()\n",
    "\n",
    "print('Accuracy of the network on the 60000 test images: %.3f %%' % \n",
    "     (100 * correct / total))"
   ]
  },
  {
   "cell_type": "code",
   "execution_count": 11,
   "metadata": {},
   "outputs": [
    {
     "name": "stdout",
     "output_type": "stream",
     "text": [
      "Accuracy of the network on the 10000 test images: 95.790 %\n"
     ]
    }
   ],
   "source": [
    "correct = 0\n",
    "total = 0\n",
    "with torch.no_grad():\n",
    "    for data in testloader:\n",
    "        images, labels = data\n",
    "        images = images.view(-1, 28, 28)\n",
    "        outputs = net(images)\n",
    "        _, predicted = torch.max(outputs.data, 1)\n",
    "        total += labels.size(0)\n",
    "        correct += (predicted == labels).sum().item()\n",
    "\n",
    "print('Accuracy of the network on the 10000 test images: %.3f %%' % \n",
    "     (100 * correct / total))"
   ]
  },
  {
   "cell_type": "code",
   "execution_count": null,
   "metadata": {},
   "outputs": [],
   "source": []
  }
 ],
 "metadata": {
  "kernelspec": {
   "display_name": "Python 3",
   "language": "python",
   "name": "python3"
  },
  "language_info": {
   "codemirror_mode": {
    "name": "ipython",
    "version": 3
   },
   "file_extension": ".py",
   "mimetype": "text/x-python",
   "name": "python",
   "nbconvert_exporter": "python",
   "pygments_lexer": "ipython3",
   "version": "3.7.2"
  }
 },
 "nbformat": 4,
 "nbformat_minor": 2
}
