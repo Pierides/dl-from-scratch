{
 "cells": [
  {
   "cell_type": "markdown",
   "metadata": {},
   "source": [
    "# 第 3 章：TensorFlow"
   ]
  },
  {
   "cell_type": "code",
   "execution_count": 1,
   "metadata": {},
   "outputs": [
    {
     "name": "stdout",
     "output_type": "stream",
     "text": [
      "1.10.0\n"
     ]
    }
   ],
   "source": [
    "# 导入 tensorflow\n",
    "import tensorflow as tf\n",
    "\n",
    "# 查看 tensorflow 版本\n",
    "print(tf.__version__)"
   ]
  },
  {
   "cell_type": "markdown",
   "metadata": {},
   "source": [
    "## 张量 Tensor"
   ]
  },
  {
   "cell_type": "markdown",
   "metadata": {},
   "source": [
    "### 创建 Tensor"
   ]
  },
  {
   "cell_type": "code",
   "execution_count": 2,
   "metadata": {},
   "outputs": [],
   "source": [
    "# 0 阶 Tensor\n",
    "c0 = tf.constant(2, name='c0')\n",
    "# 1 阶 Tensor\n",
    "c1 = tf.constant([1, 2, 3], name='c1')\n",
    "# 2 阶 Tensor\n",
    "c2 = tf.constant([[1, 2], [3, 4]], name='c2')"
   ]
  },
  {
   "cell_type": "code",
   "execution_count": 3,
   "metadata": {},
   "outputs": [
    {
     "name": "stdout",
     "output_type": "stream",
     "text": [
      "Tensor(\"c0:0\", shape=(), dtype=int32)\n",
      "Tensor(\"c1:0\", shape=(3,), dtype=int32)\n",
      "Tensor(\"c2:0\", shape=(2, 2), dtype=int32)\n"
     ]
    }
   ],
   "source": [
    "print(c0)\n",
    "print(c1)\n",
    "print(c2)"
   ]
  },
  {
   "cell_type": "markdown",
   "metadata": {},
   "source": [
    "### Tensor数学运算"
   ]
  },
  {
   "cell_type": "code",
   "execution_count": 4,
   "metadata": {},
   "outputs": [
    {
     "name": "stdout",
     "output_type": "stream",
     "text": [
      "Tensor(\"add:0\", shape=(2, 2), dtype=int32)\n",
      "Tensor(\"sub:0\", shape=(2, 2), dtype=int32)\n",
      "Tensor(\"multiply:0\", shape=(2, 2), dtype=int32)\n",
      "Tensor(\"matmul:0\", shape=(2, 2), dtype=int32)\n"
     ]
    }
   ],
   "source": [
    "a = tf.constant([[1, 2], [3, 4]], name='a')\n",
    "b = tf.constant([[5, 6], [7, 8]], name='b')\n",
    "# 加法\n",
    "out = tf.add(a, b, name='add')\n",
    "print(out)\n",
    "# 减法\n",
    "out = tf.subtract(a, b, name='sub')\n",
    "print(out)\n",
    "# 对应元素相乘\n",
    "out = tf.multiply(a, b, name='multiply')\n",
    "print(out)\n",
    "# 矩阵相乘\n",
    "out = tf.matmul(a, b, name='matmul')\n",
    "print(out)"
   ]
  },
  {
   "cell_type": "markdown",
   "metadata": {},
   "source": [
    "## 数据流图（Data Flow Graph）"
   ]
  },
  {
   "cell_type": "markdown",
   "metadata": {},
   "source": [
    "![](./datasets/ch03/3-3.png)"
   ]
  },
  {
   "cell_type": "code",
   "execution_count": 5,
   "metadata": {},
   "outputs": [],
   "source": [
    "c = tf.constant(2, name='const')\n",
    "\n",
    "a = tf.Variable(3, name='a')\n",
    "b = tf.Variable(4, name='b')\n",
    "\n",
    "f = a*a + a*b +c"
   ]
  },
  {
   "cell_type": "markdown",
   "metadata": {},
   "source": [
    "## 会话（Session）"
   ]
  },
  {
   "cell_type": "markdown",
   "metadata": {},
   "source": [
    "### 会话机制 1 "
   ]
  },
  {
   "cell_type": "code",
   "execution_count": 6,
   "metadata": {},
   "outputs": [
    {
     "name": "stdout",
     "output_type": "stream",
     "text": [
      "23\n"
     ]
    }
   ],
   "source": [
    "sess = tf.Session()\n",
    "sess.run(a.initializer)\n",
    "sess.run(b.initializer)\n",
    "result = sess.run(f)\n",
    "print(result)\n",
    "\n",
    "sess.close()"
   ]
  },
  {
   "cell_type": "markdown",
   "metadata": {},
   "source": [
    "### 会话机制 2"
   ]
  },
  {
   "cell_type": "code",
   "execution_count": 7,
   "metadata": {},
   "outputs": [
    {
     "name": "stdout",
     "output_type": "stream",
     "text": [
      "23\n"
     ]
    }
   ],
   "source": [
    "with tf.Session() as sess:\n",
    "    a.initializer.run()\n",
    "    b.initializer.run()\n",
    "    result = f.eval()\n",
    "print(result)"
   ]
  },
  {
   "cell_type": "markdown",
   "metadata": {},
   "source": [
    "### 会话机制 3"
   ]
  },
  {
   "cell_type": "code",
   "execution_count": 8,
   "metadata": {},
   "outputs": [],
   "source": [
    "init = tf.global_variables_initializer()    # 定义全局初始化节点\n",
    "\n",
    "with tf.Session() as sess:\n",
    "    init.run()    # 初始化所有变量\n",
    "    result = f.eval()"
   ]
  },
  {
   "cell_type": "markdown",
   "metadata": {},
   "source": [
    "### 占位符 tf.placeholder()"
   ]
  },
  {
   "cell_type": "code",
   "execution_count": 9,
   "metadata": {},
   "outputs": [
    {
     "name": "stdout",
     "output_type": "stream",
     "text": [
      "Situation 1:\n",
      " [12.]\n",
      "Situation 2:\n",
      " [[2. 4.]\n",
      " [6. 8.]]\n"
     ]
    }
   ],
   "source": [
    "# 在 Tensorflow 中需要定义 placeholder 的 type，一般为 float32\n",
    "a = tf.placeholder(tf.float32, name='a')\n",
    "b = tf.placeholder(tf.float32, name='b')\n",
    "f = tf.multiply(a, b)\n",
    "\n",
    "with tf.Session() as sess:\n",
    "    print('Situation 1:\\n', sess.run(f, feed_dict={a: [3.], b: [4.]}))\n",
    "    print('Situation 2:\\n',sess.run(f, feed_dict={a:[[1.,2.],[3.,4.]], b: [2.]}))"
   ]
  },
  {
   "cell_type": "markdown",
   "metadata": {},
   "source": [
    "## TensorFlow 线性回归"
   ]
  },
  {
   "cell_type": "code",
   "execution_count": 10,
   "metadata": {},
   "outputs": [],
   "source": [
    "import numpy as np\n",
    "import matplotlib.pyplot as plt"
   ]
  },
  {
   "cell_type": "markdown",
   "metadata": {},
   "source": [
    "### 创建数据集"
   ]
  },
  {
   "cell_type": "code",
   "execution_count": 11,
   "metadata": {},
   "outputs": [],
   "source": [
    "x_train = np.linspace(-1, 1, 50)\n",
    "y_train = 3*x_train + 10 + 0.5 * np.random.randn(x_train.shape[0])"
   ]
  },
  {
   "cell_type": "markdown",
   "metadata": {},
   "source": [
    "显示数据分布"
   ]
  },
  {
   "cell_type": "code",
   "execution_count": 12,
   "metadata": {},
   "outputs": [
    {
     "data": {
      "image/png": "[encoded data removed]",
      "text/plain": [
       "<Figure size 720x432 with 1 Axes>"
      ]
     },
     "metadata": {
      "needs_background": "light"
     },
     "output_type": "display_data"
    }
   ],
   "source": [
    "import matplotlib.pyplot as plt\n",
    "plt.rcParams['font.sans-serif']=['SimHei']\n",
    "plt.rcParams['axes.unicode_minus']=False\n",
    "plt.rcParams['figure.figsize'] = (10.0, 6.0) # set default size of plots\n",
    "\n",
    "plt.scatter(x_train, y_train)\n",
    "plt.show()"
   ]
  },
  {
   "cell_type": "markdown",
   "metadata": {},
   "source": [
    "### 创建输入节点 x 和 y，用于输入数据"
   ]
  },
  {
   "cell_type": "code",
   "execution_count": 13,
   "metadata": {},
   "outputs": [],
   "source": [
    "x = tf.placeholder(tf.float32, name='x')\n",
    "y = tf.placeholder(tf.float32, name='y')"
   ]
  },
  {
   "cell_type": "markdown",
   "metadata": {},
   "source": [
    "### 创建变量节点 w1 和 w0，并初始化变量"
   ]
  },
  {
   "cell_type": "code",
   "execution_count": 14,
   "metadata": {},
   "outputs": [],
   "source": [
    "w1 = tf.Variable(tf.random_normal([1]), name='w1')\n",
    "w0 = tf.Variable(tf.zeros([1]), name='w0')"
   ]
  },
  {
   "cell_type": "markdown",
   "metadata": {},
   "source": [
    "### 创建线性模型"
   ]
  },
  {
   "cell_type": "code",
   "execution_count": 15,
   "metadata": {},
   "outputs": [],
   "source": [
    "y_hat = w0 + w1 * x"
   ]
  },
  {
   "cell_type": "markdown",
   "metadata": {},
   "source": [
    "### 创建损失模型"
   ]
  },
  {
   "cell_type": "code",
   "execution_count": 16,
   "metadata": {},
   "outputs": [],
   "source": [
    "loss = tf.reduce_mean(tf.square(y_hat - y))"
   ]
  },
  {
   "cell_type": "markdown",
   "metadata": {},
   "source": [
    "### 创建一个梯度下降优化器"
   ]
  },
  {
   "cell_type": "code",
   "execution_count": 17,
   "metadata": {},
   "outputs": [],
   "source": [
    "optimizer = tf.train.GradientDescentOptimizer(0.01)    # 学习率设为 0.01\n",
    "train = optimizer.minimize(loss)"
   ]
  },
  {
   "cell_type": "markdown",
   "metadata": {},
   "source": [
    "### 创建会话 Session 用来计算模型"
   ]
  },
  {
   "cell_type": "code",
   "execution_count": 18,
   "metadata": {},
   "outputs": [],
   "source": [
    "sess = tf.Session()"
   ]
  },
  {
   "cell_type": "markdown",
   "metadata": {},
   "source": [
    "### 初始化变量"
   ]
  },
  {
   "cell_type": "code",
   "execution_count": 19,
   "metadata": {},
   "outputs": [
    {
     "name": "stdout",
     "output_type": "stream",
     "text": [
      "w1 = [-0.4311598] w0 = [0.]\n"
     ]
    }
   ],
   "source": [
    "init = tf.global_variables_initializer()\n",
    "sess.run(init)\n",
    "print (\"w1 =\", sess.run(w1), \"w0 =\", sess.run(w0))  # 打印初始化的w1和w0"
   ]
  },
  {
   "cell_type": "markdown",
   "metadata": {},
   "source": [
    "### 训练"
   ]
  },
  {
   "cell_type": "code",
   "execution_count": 20,
   "metadata": {},
   "outputs": [
    {
     "name": "stdout",
     "output_type": "stream",
     "text": [
      "Iteration[20/500], loss: 47.436157\n",
      "Iteration[40/500], loss: 22.252466\n",
      "Iteration[60/500], loss: 10.788024\n",
      "Iteration[80/500], loss: 5.496624\n",
      "Iteration[100/500], loss: 3.000713\n",
      "Iteration[120/500], loss: 1.784191\n",
      "Iteration[140/500], loss: 1.163201\n",
      "Iteration[160/500], loss: 0.826786\n",
      "Iteration[180/500], loss: 0.631707\n",
      "Iteration[200/500], loss: 0.510594\n",
      "Iteration[220/500], loss: 0.430753\n",
      "Iteration[240/500], loss: 0.375594\n",
      "Iteration[260/500], loss: 0.336194\n",
      "Iteration[280/500], loss: 0.307420\n",
      "Iteration[300/500], loss: 0.286107\n",
      "Iteration[320/500], loss: 0.270183\n",
      "Iteration[340/500], loss: 0.258223\n",
      "Iteration[360/500], loss: 0.249212\n",
      "Iteration[380/500], loss: 0.242410\n",
      "Iteration[400/500], loss: 0.237269\n",
      "Iteration[420/500], loss: 0.233382\n",
      "Iteration[440/500], loss: 0.230442\n",
      "Iteration[460/500], loss: 0.228216\n",
      "Iteration[480/500], loss: 0.226533\n",
      "Iteration[500/500], loss: 0.225258\n"
     ]
    }
   ],
   "source": [
    "num_iter = 500\n",
    "for i in range(num_iter):\n",
    "    sess.run(train, {x: x_train, y: y_train})\n",
    "    if (i+1) % 20 == 0:\n",
    "        print('Iteration[{}/{}], loss: {:.6f}'.format(i+1,num_iter,sess.run(loss,{x:x_train,y:y_train})))"
   ]
  },
  {
   "cell_type": "markdown",
   "metadata": {},
   "source": [
    "打印 w1"
   ]
  },
  {
   "cell_type": "code",
   "execution_count": 21,
   "metadata": {},
   "outputs": [
    {
     "data": {
      "text/plain": [
       "array([2.938043], dtype=float32)"
      ]
     },
     "execution_count": 21,
     "metadata": {},
     "output_type": "execute_result"
    }
   ],
   "source": [
    "sess.run(w1)"
   ]
  },
  {
   "cell_type": "markdown",
   "metadata": {},
   "source": [
    "打印 w0"
   ]
  },
  {
   "cell_type": "code",
   "execution_count": 22,
   "metadata": {},
   "outputs": [
    {
     "data": {
      "text/plain": [
       "array([9.940149], dtype=float32)"
      ]
     },
     "execution_count": 22,
     "metadata": {},
     "output_type": "execute_result"
    }
   ],
   "source": [
    "sess.run(w0)"
   ]
  },
  {
   "cell_type": "markdown",
   "metadata": {},
   "source": [
    "### 模型测试"
   ]
  },
  {
   "cell_type": "code",
   "execution_count": 23,
   "metadata": {},
   "outputs": [
    {
     "data": {
      "image/png": "[encoded data removed]",
      "text/plain": [
       "<Figure size 720x432 with 1 Axes>"
      ]
     },
     "metadata": {
      "needs_background": "light"
     },
     "output_type": "display_data"
    }
   ],
   "source": [
    "y_hat = sess.run(y_hat, {x: x_train, y: y_train})    # 模型的预测输出\n",
    "plt.scatter(x_train, y_train, label='原始数据')\n",
    "plt.plot(x_train, y_hat, c='r', label='拟合直线')\n",
    "# 显示图例\n",
    "plt.legend() \n",
    "plt.show()"
   ]
  },
  {
   "cell_type": "markdown",
   "metadata": {},
   "source": [
    "### 关闭会话& 图复位"
   ]
  },
  {
   "cell_type": "code",
   "execution_count": 24,
   "metadata": {},
   "outputs": [],
   "source": [
    "sess.close()    # 关闭会话 Session\n",
    "tf.reset_default_graph()    # 图复位"
   ]
  },
  {
   "cell_type": "markdown",
   "metadata": {},
   "source": [
    "## TensorBoard"
   ]
  },
  {
   "cell_type": "markdown",
   "metadata": {},
   "source": [
    "### 创建日志存放目录"
   ]
  },
  {
   "cell_type": "code",
   "execution_count": 25,
   "metadata": {},
   "outputs": [],
   "source": [
    "from datetime import  datetime\n",
    "\n",
    "now = datetime.utcnow().strftime('%Y%m%d%H%M%S')\n",
    "root_logdir = 'tf_logs'\n",
    "logdir = '{}/ch03/run-{}'.format(root_logdir, now)"
   ]
  },
  {
   "cell_type": "markdown",
   "metadata": {},
   "source": [
    "### 构建计算图"
   ]
  },
  {
   "cell_type": "code",
   "execution_count": 26,
   "metadata": {},
   "outputs": [],
   "source": [
    "x = tf.placeholder(tf.float32, name='x')\n",
    "y = tf.placeholder(tf.float32, name='y')\n",
    "w1 = tf.Variable(tf.random_normal([1]), name='w1')\n",
    "w0 = tf.Variable(tf.zeros([1]), name='w0')\n",
    "y_hat = w0 + w1 * x\n",
    "loss = tf.reduce_mean(tf.square(y_hat - y))\n",
    "optimizer = tf.train.GradientDescentOptimizer(0.01)    # 学习率设为 0.01\n",
    "train = optimizer.minimize(loss)"
   ]
  },
  {
   "cell_type": "markdown",
   "metadata": {},
   "source": [
    "### 设置 TensorBoard"
   ]
  },
  {
   "cell_type": "code",
   "execution_count": 27,
   "metadata": {},
   "outputs": [],
   "source": [
    "# 给损失模型的输出添加scalar，用来观察loss的收敛曲线\n",
    "loss_summary = tf.summary.scalar('loss', loss)\n",
    "# 模型运行产生的所有数据保存到文件夹供 TensorBoard 使用\n",
    "file_writer = tf.summary.FileWriter(logdir, tf.get_default_graph())"
   ]
  },
  {
   "cell_type": "markdown",
   "metadata": {},
   "source": [
    "### 会话 Session"
   ]
  },
  {
   "cell_type": "code",
   "execution_count": 28,
   "metadata": {},
   "outputs": [
    {
     "name": "stdout",
     "output_type": "stream",
     "text": [
      "Iteration[20/500], loss: 49.139008\n",
      "Iteration[40/500], loss: 23.541363\n",
      "Iteration[60/500], loss: 11.763593\n",
      "Iteration[80/500], loss: 6.235038\n",
      "Iteration[100/500], loss: 3.559620\n",
      "Iteration[120/500], loss: 2.207230\n",
      "Iteration[140/500], loss: 1.483401\n",
      "Iteration[160/500], loss: 1.069147\n",
      "Iteration[180/500], loss: 0.815151\n",
      "Iteration[200/500], loss: 0.649443\n",
      "Iteration[220/500], loss: 0.535848\n",
      "Iteration[240/500], loss: 0.455141\n",
      "Iteration[260/500], loss: 0.396404\n",
      "Iteration[280/500], loss: 0.352993\n",
      "Iteration[300/500], loss: 0.320601\n",
      "Iteration[320/500], loss: 0.296292\n",
      "Iteration[340/500], loss: 0.277985\n",
      "Iteration[360/500], loss: 0.264170\n",
      "Iteration[380/500], loss: 0.253731\n",
      "Iteration[400/500], loss: 0.245839\n",
      "Iteration[420/500], loss: 0.239868\n",
      "Iteration[440/500], loss: 0.235351\n",
      "Iteration[460/500], loss: 0.231933\n",
      "Iteration[480/500], loss: 0.229345\n",
      "Iteration[500/500], loss: 0.227387\n"
     ]
    }
   ],
   "source": [
    "init = tf.global_variables_initializer()\n",
    "sess = tf.Session()\n",
    "sess.run(init)\n",
    "\n",
    "num_iter = 500\n",
    "for i in range(num_iter):\n",
    "    # 训练时传入loss_summary\n",
    "    summary, _ = sess.run([loss_summary, train], {x: x_train, y: y_train})\n",
    "    # 收集每次训练产生的数据\n",
    "    file_writer.add_summary(summary, i)\n",
    "    if (i+1) % 20 == 0:\n",
    "        print('Iteration[{}/{}], loss: {:.6f}'.format(i+1,num_iter,sess.run(loss,{x:x_train,y:y_train})))"
   ]
  },
  {
   "cell_type": "code",
   "execution_count": null,
   "metadata": {},
   "outputs": [],
   "source": []
  }
 ],
 "metadata": {
  "kernelspec": {
   "display_name": "Python 3",
   "language": "python",
   "name": "python3"
  },
  "language_info": {
   "codemirror_mode": {
    "name": "ipython",
    "version": 3
   },
   "file_extension": ".py",
   "mimetype": "text/x-python",
   "name": "python",
   "nbconvert_exporter": "python",
   "pygments_lexer": "ipython3",
   "version": "3.5.6"
  }
 },
 "nbformat": 4,
 "nbformat_minor": 2
}
