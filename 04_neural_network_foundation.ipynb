{
 "cells": [
  {
   "cell_type": "markdown",
   "metadata": {},
   "source": [
    "# 第 4 章：神经网络基础"
   ]
  },
  {
   "cell_type": "code",
   "execution_count": 1,
   "metadata": {},
   "outputs": [],
   "source": [
    "import numpy as np\n",
    "import matplotlib.pyplot as plt\n",
    "plt.rcParams['font.sans-serif']=['SimHei']\n",
    "plt.rcParams['axes.unicode_minus']=False"
   ]
  },
  {
   "cell_type": "markdown",
   "metadata": {},
   "source": [
    "## 逻辑回归"
   ]
  },
  {
   "cell_type": "markdown",
   "metadata": {},
   "source": [
    "### 数据集"
   ]
  },
  {
   "cell_type": "markdown",
   "metadata": {},
   "source": [
    "从 `sklearn` 库中导入 `make_moon` 数据集"
   ]
  },
  {
   "cell_type": "code",
   "execution_count": 2,
   "metadata": {},
   "outputs": [],
   "source": [
    "import sklearn.datasets\n",
    "\n",
    "np.random.seed(1)    # 设置随机种子\n",
    "X, Y = sklearn.datasets.make_moons(n_samples=200, noise=.2)    # 导入 make_moon 数据集，样本个数 m=200，噪声标准差为 0.2\n",
    "X, Y = X.T, Y.reshape(1, Y.shape[0])    # X shape: [2,200]，Y shape: [1,200]\n",
    "m = X.shape[1]    # 样本个数\n",
    "dim = X.shape[0]    # 特征维度"
   ]
  },
  {
   "cell_type": "code",
   "execution_count": 3,
   "metadata": {},
   "outputs": [
    {
     "name": "stdout",
     "output_type": "stream",
     "text": [
      "X shape:  (2, 200)\n",
      "Y shape:  (1, 200)\n"
     ]
    }
   ],
   "source": [
    "print('X shape: ', X.shape)\n",
    "print('Y shape: ', Y.shape)"
   ]
  },
  {
   "cell_type": "markdown",
   "metadata": {},
   "source": [
    "绘制数据分布散点图"
   ]
  },
  {
   "cell_type": "code",
   "execution_count": 4,
   "metadata": {},
   "outputs": [
    {
     "data": {
      "image/png": "[encoded data removed]",
      "text/plain": [
       "<Figure size 432x288 with 1 Axes>"
      ]
     },
     "metadata": {
      "needs_background": "light"
     },
     "output_type": "display_data"
    }
   ],
   "source": [
    "plt.scatter(X[0, Y[0,:]==0], X[1, Y[0,:]==0], c='r', marker='s')    # 负类\n",
    "plt.scatter(X[0, Y[0,:]==1], X[1, Y[0,:]==1], c='b', marker='o')    # 正类\n",
    "plt.show()"
   ]
  },
  {
   "cell_type": "markdown",
   "metadata": {},
   "source": [
    "### 梯度下降优化算法"
   ]
  },
  {
   "cell_type": "markdown",
   "metadata": {},
   "source": [
    "代价函数（Cost Fucntion）："
   ]
  },
  {
   "cell_type": "markdown",
   "metadata": {},
   "source": [
    "$$J=-\\frac{1}{m}\\sum_{i=1}^{m}y^{(i)}log\\hat y^{(i)}+(1-y^{(i)})log(1-\\hat y^{(i)})$$"
   ]
  },
  {
   "cell_type": "markdown",
   "metadata": {},
   "source": [
    "梯度下降（Gradient Descent）："
   ]
  },
  {
   "cell_type": "markdown",
   "metadata": {},
   "source": [
    "$$\\frac{\\partial J}{\\partial W} = \\frac{1}{m}X(\\hat Y-Y)^T$$\n",
    "$$\\frac{\\partial J}{\\partial b} = \\frac{1}{m} \\sum_{i=1}^m (\\hat y^{(i)}-y^{(i)})$$"
   ]
  },
  {
   "cell_type": "markdown",
   "metadata": {},
   "source": [
    "定义 Sigmoid 函数："
   ]
  },
  {
   "cell_type": "code",
   "execution_count": 5,
   "metadata": {},
   "outputs": [],
   "source": [
    "def sigmoid(x):\n",
    "    \"\"\"\n",
    "    函数输入：\n",
    "        - x：sigmoid 函数输入\n",
    "\n",
    "    函数输出：\n",
    "        - y：sigmoid 输出\n",
    "    \"\"\"\n",
    "    y = 1 / (1 + np.exp(-x))\n",
    "    \n",
    "    return y"
   ]
  },
  {
   "cell_type": "markdown",
   "metadata": {},
   "source": [
    "定义逻辑回归优化算法："
   ]
  },
  {
   "cell_type": "code",
   "execution_count": 6,
   "metadata": {},
   "outputs": [],
   "source": [
    "def optimizer(X, Y, num_iterations=200, learning_rate=0.01):\n",
    "    \"\"\"\n",
    "    函数输入：\n",
    "        - X：输入数据特征，维度 = (dim, m)\n",
    "        - Y：输入数据标签，维度 = (1, m)\n",
    "        - num_iteration：训练次数\n",
    "        - learning_rate：学习速率\n",
    "    函数输出：\n",
    "        - W：训练后的权重参数\n",
    "        - b：训练后的偏置参数\n",
    "        - cost：每次训练计算的损失存放在 cost 列表中\n",
    "    \"\"\"\n",
    "    cost = []         # 列表，存放每次训练的损失\n",
    "    m = X.shape[1]    # 样本个数\n",
    "    dim = X.shape[0]  # 特征维度\n",
    "    \n",
    "    # 参数初始化\n",
    "    W = np.zeros((dim, 1))\n",
    "    b = 0\n",
    "    \n",
    "    # 迭代训练\n",
    "    for i in range(num_iterations):\n",
    "        Z = np.dot(W.T, X) + b    # 线性部分\n",
    "        Y_hat = sigmoid(Z)    # 非线性部分\n",
    "        J = -1.0 / m * np.sum(Y * np.log(Y_hat) + (1 - Y) * np.log(1 - Y_hat))    # 代价函数\n",
    "        cost.append(J)\n",
    "        \n",
    "        # 梯度下降\n",
    "        dW = 1.0 / m * np.dot(X, (Y_hat - Y).T)\n",
    "        db = 1.0 / m * np.sum(Y_hat - Y)\n",
    "        W = W - learning_rate * dW    # W 更新公式\n",
    "        b = b - learning_rate * db    # b 更新公式\n",
    "    \n",
    "        if (i+1) % 20 == 0:\n",
    "            print('Iteration: %d, J = %f' % (i+1, J))\n",
    "        \n",
    "    return W, b, cost"
   ]
  },
  {
   "cell_type": "markdown",
   "metadata": {},
   "source": [
    "### 训练"
   ]
  },
  {
   "cell_type": "code",
   "execution_count": 7,
   "metadata": {},
   "outputs": [
    {
     "name": "stdout",
     "output_type": "stream",
     "text": [
      "Iteration: 20, J = 0.566442\n",
      "Iteration: 40, J = 0.496925\n",
      "Iteration: 60, J = 0.455583\n",
      "Iteration: 80, J = 0.428317\n",
      "Iteration: 100, J = 0.408968\n",
      "Iteration: 120, J = 0.394467\n",
      "Iteration: 140, J = 0.383137\n",
      "Iteration: 160, J = 0.373990\n",
      "Iteration: 180, J = 0.366413\n",
      "Iteration: 200, J = 0.360008\n",
      "Iteration: 220, J = 0.354504\n",
      "Iteration: 240, J = 0.349710\n",
      "Iteration: 260, J = 0.345489\n",
      "Iteration: 280, J = 0.341740\n",
      "Iteration: 300, J = 0.338385\n",
      "Iteration: 320, J = 0.335364\n",
      "Iteration: 340, J = 0.332631\n",
      "Iteration: 360, J = 0.330146\n",
      "Iteration: 380, J = 0.327878\n",
      "Iteration: 400, J = 0.325803\n",
      "Iteration: 420, J = 0.323897\n",
      "Iteration: 440, J = 0.322143\n",
      "Iteration: 460, J = 0.320525\n",
      "Iteration: 480, J = 0.319029\n",
      "Iteration: 500, J = 0.317644\n",
      "Iteration: 520, J = 0.316360\n",
      "Iteration: 540, J = 0.315166\n",
      "Iteration: 560, J = 0.314056\n",
      "Iteration: 580, J = 0.313022\n",
      "Iteration: 600, J = 0.312057\n",
      "Iteration: 620, J = 0.311156\n",
      "Iteration: 640, J = 0.310314\n",
      "Iteration: 660, J = 0.309526\n",
      "Iteration: 680, J = 0.308788\n",
      "Iteration: 700, J = 0.308096\n",
      "Iteration: 720, J = 0.307447\n",
      "Iteration: 740, J = 0.306837\n",
      "Iteration: 760, J = 0.306264\n",
      "Iteration: 780, J = 0.305725\n",
      "Iteration: 800, J = 0.305218\n",
      "Iteration: 820, J = 0.304740\n",
      "Iteration: 840, J = 0.304289\n",
      "Iteration: 860, J = 0.303864\n",
      "Iteration: 880, J = 0.303463\n",
      "Iteration: 900, J = 0.303084\n",
      "Iteration: 920, J = 0.302725\n",
      "Iteration: 940, J = 0.302387\n",
      "Iteration: 960, J = 0.302066\n",
      "Iteration: 980, J = 0.301763\n",
      "Iteration: 1000, J = 0.301476\n"
     ]
    }
   ],
   "source": [
    "W, b, cost = optimizer(X, Y, num_iterations=1000, learning_rate=0.1)"
   ]
  },
  {
   "cell_type": "markdown",
   "metadata": {},
   "source": [
    "训练后的参数 $W$ 和 $b$"
   ]
  },
  {
   "cell_type": "code",
   "execution_count": 8,
   "metadata": {},
   "outputs": [
    {
     "name": "stdout",
     "output_type": "stream",
     "text": [
      "W =  [[ 1.14042339]\n",
      " [-3.83196763]]\n",
      "b =  0.3501017350326183\n"
     ]
    }
   ],
   "source": [
    "print('W = ', W)\n",
    "print('b = ', b)"
   ]
  },
  {
   "cell_type": "markdown",
   "metadata": {},
   "source": [
    "显示训练过程中的损失 cost"
   ]
  },
  {
   "cell_type": "code",
   "execution_count": 9,
   "metadata": {},
   "outputs": [
    {
     "data": {
      "image/png": "[encoded data removed]",
      "text/plain": [
       "<Figure size 432x288 with 1 Axes>"
      ]
     },
     "metadata": {
      "needs_background": "light"
     },
     "output_type": "display_data"
    }
   ],
   "source": [
    "plt.plot(cost)\n",
    "plt.xlabel('迭代次数')\n",
    "plt.ylabel('损失函数')\n",
    "plt.show()"
   ]
  },
  {
   "cell_type": "markdown",
   "metadata": {},
   "source": [
    "### 预测"
   ]
  },
  {
   "cell_type": "markdown",
   "metadata": {},
   "source": [
    "定义预测函数"
   ]
  },
  {
   "cell_type": "code",
   "execution_count": 10,
   "metadata": {},
   "outputs": [],
   "source": [
    "def predict(X, W, b):\n",
    "    \"\"\"\n",
    "    函数输入：\n",
    "        - X：输入数据特征，维度 = (dim, m)\n",
    "        - W：训练后的权重参数\n",
    "        - b：训练后的偏置参数\n",
    "    函数输出：\n",
    "        - Y_pred：预测输出标签，维度 = (1, m)\n",
    "    \"\"\"\n",
    "    \n",
    "    Y_pred = np.zeros((1, X.shape[1]))    # 初始化 Y_pred\n",
    "    \n",
    "    Z = np.dot(W.T, X) + b    # 线性部分\n",
    "    Y_hat = sigmoid(Z)    # 非线性部分\n",
    "    Y_pred[Y_hat > 0.5] = 1    # Y_hat 大于 0.5 的预测为正类\n",
    "\n",
    "    return Y_pred"
   ]
  },
  {
   "cell_type": "markdown",
   "metadata": {},
   "source": [
    "对输入数据 X 进行预测"
   ]
  },
  {
   "cell_type": "code",
   "execution_count": 11,
   "metadata": {},
   "outputs": [
    {
     "name": "stdout",
     "output_type": "stream",
     "text": [
      "[[0. 0. 0. 0. 1. 1. 0. 1. 0. 1. 1. 0. 1. 0. 0. 1. 1. 0. 1. 0. 0. 0. 0. 0.\n",
      "  0. 1. 0. 0. 1. 0. 0. 1. 1. 1. 1. 1. 1. 0. 0. 1. 1. 0. 1. 0. 0. 0. 0. 0.\n",
      "  1. 1. 1. 1. 1. 0. 0. 1. 1. 0. 1. 1. 0. 0. 0. 0. 0. 1. 1. 0. 0. 0. 0. 0.\n",
      "  1. 1. 1. 1. 0. 0. 0. 1. 1. 0. 0. 1. 1. 0. 0. 1. 1. 0. 0. 0. 1. 1. 1. 0.\n",
      "  1. 1. 1. 1. 0. 0. 0. 1. 1. 0. 0. 1. 1. 0. 1. 1. 0. 0. 0. 1. 0. 1. 0. 0.\n",
      "  0. 0. 1. 1. 1. 0. 1. 1. 1. 1. 0. 0. 1. 0. 1. 0. 1. 1. 1. 0. 1. 1. 1. 1.\n",
      "  0. 1. 0. 1. 1. 0. 0. 0. 0. 0. 0. 1. 1. 0. 1. 1. 1. 0. 1. 1. 1. 1. 0. 1.\n",
      "  1. 0. 0. 0. 0. 1. 1. 1. 0. 0. 0. 0. 1. 1. 1. 1. 1. 0. 0. 1. 0. 1. 0. 1.\n",
      "  1. 1. 0. 1. 1. 0. 1. 0.]]\n"
     ]
    }
   ],
   "source": [
    "Y_pred = predict(X, W, b)\n",
    "print(Y_pred)"
   ]
  },
  {
   "cell_type": "markdown",
   "metadata": {},
   "source": [
    "计算预测准确率"
   ]
  },
  {
   "cell_type": "code",
   "execution_count": 12,
   "metadata": {},
   "outputs": [
    {
     "name": "stdout",
     "output_type": "stream",
     "text": [
      "0.86\n"
     ]
    }
   ],
   "source": [
    "accuracy = np.mean(Y_pred == Y)\n",
    "print(accuracy)"
   ]
  },
  {
   "cell_type": "markdown",
   "metadata": {},
   "source": [
    "绘制分类直线，可视化分类效果"
   ]
  },
  {
   "cell_type": "code",
   "execution_count": 13,
   "metadata": {},
   "outputs": [
    {
     "data": {
      "image/png": "[encoded data removed]",
      "text/plain": [
       "<Figure size 432x288 with 1 Axes>"
      ]
     },
     "metadata": {
      "needs_background": "light"
     },
     "output_type": "display_data"
    }
   ],
   "source": [
    "from matplotlib.colors import ListedColormap\n",
    "    \n",
    "x_min, x_max = X[0, :].min() - 0.5, X[0, :].max() + 0.5\n",
    "y_min, y_max = X[1, :].min() - 0.5, X[1, :].max() + 0.5\n",
    "step = 0.001\n",
    "xx, yy = np.meshgrid(np.arange(x_min, x_max, step), np.arange(y_min, y_max, step))\n",
    "Z = predict(np.c_[xx.ravel(), yy.ravel()].T, W, b)\n",
    "Z = Z.reshape(xx.shape)\n",
    "plt.contourf(xx, yy, Z, cmap=plt.cm.Spectral)    # 绘制边界\n",
    "plt.scatter(X[0, Y[0,:]==0], X[1, Y[0,:]==0], c='g', marker='s', label='负类')    # 负类\n",
    "plt.scatter(X[0, Y[0,:]==1], X[1, Y[0,:]==1], c='y', marker='o', label='正类')    # 正类\n",
    "plt.legend()\n",
    "plt.show()"
   ]
  },
  {
   "cell_type": "code",
   "execution_count": null,
   "metadata": {},
   "outputs": [],
   "source": []
  }
 ],
 "metadata": {
  "kernelspec": {
   "display_name": "Python 3",
   "language": "python",
   "name": "python3"
  },
  "language_info": {
   "codemirror_mode": {
    "name": "ipython",
    "version": 3
   },
   "file_extension": ".py",
   "mimetype": "text/x-python",
   "name": "python",
   "nbconvert_exporter": "python",
   "pygments_lexer": "ipython3",
   "version": "3.5.6"
  }
 },
 "nbformat": 4,
 "nbformat_minor": 2
}
