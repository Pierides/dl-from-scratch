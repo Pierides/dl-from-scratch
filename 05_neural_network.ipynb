{
 "cells": [
  {
   "cell_type": "markdown",
   "metadata": {},
   "source": [
    "# 第 5 章：神经网络"
   ]
  },
  {
   "cell_type": "code",
   "execution_count": 1,
   "metadata": {},
   "outputs": [],
   "source": [
    "import numpy as np\n",
    "import matplotlib.pyplot as plt\n",
    "plt.rcParams['font.sans-serif']=['SimHei']\n",
    "plt.rcParams['axes.unicode_minus']=False"
   ]
  },
  {
   "cell_type": "markdown",
   "metadata": {},
   "source": [
    "## 1. 逻辑回归"
   ]
  },
  {
   "cell_type": "markdown",
   "metadata": {},
   "source": [
    "### 数据集"
   ]
  },
  {
   "cell_type": "markdown",
   "metadata": {},
   "source": [
    "从 `sklearn` 库中导入 `make_moon` 数据集"
   ]
  },
  {
   "cell_type": "code",
   "execution_count": 2,
   "metadata": {},
   "outputs": [],
   "source": [
    "import sklearn.datasets\n",
    "\n",
    "np.random.seed(1)    # 设置随机种子\n",
    "X, Y = sklearn.datasets.make_moons(n_samples=200, noise=.2)    # 导入 make_moon 数据集，样本个数 m=200，噪声标准差为 0.2\n",
    "X, Y = X.T, Y.reshape(1, Y.shape[0])    # X shape: [2,200]，Y shape: [1,200]\n",
    "m = X.shape[1]    # 样本个数\n",
    "dim = X.shape[0]    # 特征维度"
   ]
  },
  {
   "cell_type": "code",
   "execution_count": 3,
   "metadata": {},
   "outputs": [
    {
     "name": "stdout",
     "output_type": "stream",
     "text": [
      "X shape:  (2, 200)\n",
      "Y shape:  (1, 200)\n"
     ]
    }
   ],
   "source": [
    "print('X shape: ', X.shape)\n",
    "print('Y shape: ', Y.shape)"
   ]
  },
  {
   "cell_type": "markdown",
   "metadata": {},
   "source": [
    "绘制数据分布散点图"
   ]
  },
  {
   "cell_type": "code",
   "execution_count": 4,
   "metadata": {},
   "outputs": [
    {
     "data": {
      "image/png": "[encoded data removed]",
      "text/plain": [
       "<Figure size 432x288 with 1 Axes>"
      ]
     },
     "metadata": {
      "needs_background": "light"
     },
     "output_type": "display_data"
    }
   ],
   "source": [
    "plt.scatter(X[0, Y[0,:]==0], X[1, Y[0,:]==0], c='r', marker='s')    # 负类\n",
    "plt.scatter(X[0, Y[0,:]==1], X[1, Y[0,:]==1], c='b', marker='o')    # 正类\n",
    "plt.show()"
   ]
  },
  {
   "cell_type": "markdown",
   "metadata": {},
   "source": [
    "### 梯度下降优化算法"
   ]
  },
  {
   "cell_type": "markdown",
   "metadata": {},
   "source": [
    "代价函数（Cost Fucntion）："
   ]
  },
  {
   "cell_type": "markdown",
   "metadata": {},
   "source": [
    "$$J=-\\frac{1}{m}\\sum_{i=1}^{m}y^{(i)}log\\hat y^{(i)}+(1-y^{(i)})log(1-\\hat y^{(i)})$$"
   ]
  },
  {
   "cell_type": "markdown",
   "metadata": {},
   "source": [
    "梯度下降（Gradient Descent）："
   ]
  },
  {
   "cell_type": "markdown",
   "metadata": {},
   "source": [
    "$$\\frac{\\partial J}{\\partial W} = \\frac{1}{m}X(\\hat Y-Y)^T$$\n",
    "$$\\frac{\\partial J}{\\partial b} = \\frac{1}{m} \\sum_{i=1}^m (\\hat y^{(i)}-y^{(i)})$$"
   ]
  },
  {
   "cell_type": "markdown",
   "metadata": {},
   "source": [
    "定义 Sigmoid 函数："
   ]
  },
  {
   "cell_type": "code",
   "execution_count": 5,
   "metadata": {},
   "outputs": [],
   "source": [
    "def sigmoid(x):\n",
    "    \"\"\"\n",
    "    函数输入：\n",
    "        - x：sigmoid 函数输入\n",
    "\n",
    "    函数输出：\n",
    "        - y：sigmoid 输出\n",
    "    \"\"\"\n",
    "    y = 1 / (1 + np.exp(-x))\n",
    "    \n",
    "    return y"
   ]
  },
  {
   "cell_type": "markdown",
   "metadata": {},
   "source": [
    "定义逻辑回归优化算法："
   ]
  },
  {
   "cell_type": "code",
   "execution_count": 6,
   "metadata": {},
   "outputs": [],
   "source": [
    "def optimizer(X, Y, num_iterations=200, learning_rate=0.01):\n",
    "    \"\"\"\n",
    "    函数输入：\n",
    "        - X：输入数据特征，维度 = (dim, m)\n",
    "        - Y：输入数据标签，维度 = (1, m)\n",
    "        - num_iteration：训练次数\n",
    "        - learning_rate：学习速率\n",
    "    函数输出：\n",
    "        - W：训练后的权重参数\n",
    "        - b：训练后的偏置参数\n",
    "        - cost：每次训练计算的损失存放在 cost 列表中\n",
    "    \"\"\"\n",
    "    cost = []         # 列表，存放每次训练的损失\n",
    "    m = X.shape[1]    # 样本个数\n",
    "    dim = X.shape[0]  # 特征维度\n",
    "    \n",
    "    # 参数初始化\n",
    "    W = np.zeros((dim, 1))\n",
    "    b = 0\n",
    "    \n",
    "    # 迭代训练\n",
    "    for i in range(num_iterations):\n",
    "        Z = np.dot(W.T, X) + b    # 线性部分\n",
    "        Y_hat = sigmoid(Z)    # 非线性部分\n",
    "        J = -1.0 / m * np.sum(Y * np.log(Y_hat) + (1 - Y) * np.log(1 - Y_hat))    # 代价函数\n",
    "        cost.append(J)\n",
    "        \n",
    "        # 梯度下降\n",
    "        dW = 1.0 / m * np.dot(X, (Y_hat - Y).T)\n",
    "        db = 1.0 / m * np.sum(Y_hat - Y)\n",
    "        W = W - learning_rate * dW    # W 更新公式\n",
    "        b = b - learning_rate * db    # b 更新公式\n",
    "    \n",
    "        if (i+1) % 20 == 0:\n",
    "            print('Iteration: %d, J = %f' % (i+1, J))\n",
    "        \n",
    "    return W, b, cost"
   ]
  },
  {
   "cell_type": "markdown",
   "metadata": {},
   "source": [
    "### 训练"
   ]
  },
  {
   "cell_type": "code",
   "execution_count": 7,
   "metadata": {},
   "outputs": [
    {
     "name": "stdout",
     "output_type": "stream",
     "text": [
      "Iteration: 20, J = 0.498805\n",
      "Iteration: 40, J = 0.428957\n",
      "Iteration: 60, J = 0.394773\n",
      "Iteration: 80, J = 0.374171\n",
      "Iteration: 100, J = 0.360129\n",
      "Iteration: 120, J = 0.349796\n",
      "Iteration: 140, J = 0.341803\n",
      "Iteration: 160, J = 0.335412\n",
      "Iteration: 180, J = 0.330182\n",
      "Iteration: 200, J = 0.325829\n",
      "Iteration: 220, J = 0.322163\n",
      "Iteration: 240, J = 0.319044\n",
      "Iteration: 260, J = 0.316370\n",
      "Iteration: 280, J = 0.314063\n",
      "Iteration: 300, J = 0.312062\n",
      "Iteration: 320, J = 0.310317\n",
      "Iteration: 340, J = 0.308789\n",
      "Iteration: 360, J = 0.307447\n",
      "Iteration: 380, J = 0.306263\n",
      "Iteration: 400, J = 0.305216\n",
      "Iteration: 420, J = 0.304287\n",
      "Iteration: 440, J = 0.303460\n",
      "Iteration: 460, J = 0.302723\n",
      "Iteration: 480, J = 0.302063\n",
      "Iteration: 500, J = 0.301473\n"
     ]
    }
   ],
   "source": [
    "W, b, cost = optimizer(X, Y, num_iterations=500, learning_rate=0.2)"
   ]
  },
  {
   "cell_type": "markdown",
   "metadata": {},
   "source": [
    "训练后的参数 $W$ 和 $b$"
   ]
  },
  {
   "cell_type": "code",
   "execution_count": 8,
   "metadata": {},
   "outputs": [
    {
     "name": "stdout",
     "output_type": "stream",
     "text": [
      "W =  [[ 1.14041084]\n",
      " [-3.8333394 ]]\n",
      "b =  0.35047882396508423\n"
     ]
    }
   ],
   "source": [
    "print('W = ', W)\n",
    "print('b = ', b)"
   ]
  },
  {
   "cell_type": "markdown",
   "metadata": {},
   "source": [
    "显示训练过程中的损失 cost"
   ]
  },
  {
   "cell_type": "code",
   "execution_count": 9,
   "metadata": {},
   "outputs": [
    {
     "data": {
      "image/png": "[encoded data removed]",
      "text/plain": [
       "<Figure size 432x288 with 1 Axes>"
      ]
     },
     "metadata": {
      "needs_background": "light"
     },
     "output_type": "display_data"
    }
   ],
   "source": [
    "plt.plot(cost)\n",
    "plt.xlabel('迭代次数')\n",
    "plt.ylabel('损失函数')\n",
    "plt.show()"
   ]
  },
  {
   "cell_type": "markdown",
   "metadata": {},
   "source": [
    "### 预测"
   ]
  },
  {
   "cell_type": "markdown",
   "metadata": {},
   "source": [
    "定义预测函数"
   ]
  },
  {
   "cell_type": "code",
   "execution_count": 10,
   "metadata": {},
   "outputs": [],
   "source": [
    "def predict(X, W, b):\n",
    "    \"\"\"\n",
    "    函数输入：\n",
    "        - X：输入数据特征，维度 = (dim, m)\n",
    "        - W：训练后的权重参数\n",
    "        - b：训练后的偏置参数\n",
    "    函数输出：\n",
    "        - Y_pred：预测输出标签，维度 = (1, m)\n",
    "    \"\"\"\n",
    "    \n",
    "    Y_pred = np.zeros((1, X.shape[1]))    # 初始化 Y_pred\n",
    "    \n",
    "    Z = np.dot(W.T, X) + b    # 线性部分\n",
    "    Y_hat = sigmoid(Z)    # 非线性部分\n",
    "    Y_pred[Y_hat > 0.5] = 1    # Y_hat 大于 0.5 的预测为正类\n",
    "\n",
    "    return Y_pred"
   ]
  },
  {
   "cell_type": "markdown",
   "metadata": {},
   "source": [
    "对输入数据 X 进行预测"
   ]
  },
  {
   "cell_type": "code",
   "execution_count": 11,
   "metadata": {},
   "outputs": [
    {
     "name": "stdout",
     "output_type": "stream",
     "text": [
      "[[0. 0. 0. 0. 1. 1. 0. 1. 0. 1. 1. 0. 1. 0. 0. 1. 1. 0. 1. 0. 0. 0. 0. 0.\n",
      "  0. 1. 0. 0. 1. 0. 0. 1. 1. 1. 1. 1. 1. 0. 0. 1. 1. 0. 1. 0. 0. 0. 0. 0.\n",
      "  1. 1. 1. 1. 1. 0. 0. 1. 1. 0. 1. 1. 0. 0. 0. 0. 0. 1. 1. 0. 0. 0. 0. 0.\n",
      "  1. 1. 1. 1. 0. 0. 0. 1. 1. 0. 0. 1. 1. 0. 0. 1. 1. 0. 0. 0. 1. 1. 1. 0.\n",
      "  1. 1. 1. 1. 0. 0. 0. 1. 1. 0. 0. 1. 1. 0. 1. 1. 0. 0. 0. 1. 0. 1. 0. 0.\n",
      "  0. 0. 1. 1. 1. 0. 1. 1. 1. 1. 0. 0. 1. 0. 1. 0. 1. 1. 1. 0. 1. 1. 1. 1.\n",
      "  0. 1. 0. 1. 1. 0. 0. 0. 0. 0. 0. 1. 1. 0. 1. 1. 1. 0. 1. 1. 1. 1. 0. 1.\n",
      "  1. 0. 0. 0. 0. 1. 1. 1. 0. 0. 0. 0. 1. 1. 1. 1. 1. 0. 0. 1. 0. 1. 0. 1.\n",
      "  1. 1. 0. 1. 1. 0. 1. 0.]]\n"
     ]
    }
   ],
   "source": [
    "Y_pred = predict(X, W, b)\n",
    "print(Y_pred)"
   ]
  },
  {
   "cell_type": "markdown",
   "metadata": {},
   "source": [
    "计算预测准确率"
   ]
  },
  {
   "cell_type": "code",
   "execution_count": 12,
   "metadata": {},
   "outputs": [
    {
     "name": "stdout",
     "output_type": "stream",
     "text": [
      "0.86\n"
     ]
    }
   ],
   "source": [
    "accuracy = np.mean(Y_pred == Y)\n",
    "print(accuracy)"
   ]
  },
  {
   "cell_type": "markdown",
   "metadata": {},
   "source": [
    "绘制分类直线，可视化分类效果"
   ]
  },
  {
   "cell_type": "code",
   "execution_count": 13,
   "metadata": {},
   "outputs": [
    {
     "data": {
      "image/png": "[encoded data removed]",
      "text/plain": [
       "<Figure size 432x288 with 1 Axes>"
      ]
     },
     "metadata": {
      "needs_background": "light"
     },
     "output_type": "display_data"
    }
   ],
   "source": [
    "from matplotlib.colors import ListedColormap\n",
    "    \n",
    "x_min, x_max = X[0, :].min() - 0.5, X[0, :].max() + 0.5\n",
    "y_min, y_max = X[1, :].min() - 0.5, X[1, :].max() + 0.5\n",
    "step = 0.001\n",
    "xx, yy = np.meshgrid(np.arange(x_min, x_max, step), np.arange(y_min, y_max, step))\n",
    "Z = predict(np.c_[xx.ravel(), yy.ravel()].T, W, b)\n",
    "Z = Z.reshape(xx.shape)\n",
    "plt.contourf(xx, yy, Z, cmap=plt.cm.Spectral)    # 绘制边界\n",
    "plt.scatter(X[0, Y[0,:]==0], X[1, Y[0,:]==0], c='g', marker='s', label='负类')    # 负类\n",
    "plt.scatter(X[0, Y[0,:]==1], X[1, Y[0,:]==1], c='y', marker='o', label='正类')    # 正类\n",
    "plt.legend()\n",
    "plt.show()"
   ]
  },
  {
   "cell_type": "markdown",
   "metadata": {},
   "source": [
    "## 2. 神经网络"
   ]
  },
  {
   "cell_type": "markdown",
   "metadata": {},
   "source": [
    "### 数据集"
   ]
  },
  {
   "cell_type": "markdown",
   "metadata": {},
   "source": [
    "从 `sklearn` 库中导入 `make_moon` 数据集"
   ]
  },
  {
   "cell_type": "code",
   "execution_count": 14,
   "metadata": {},
   "outputs": [],
   "source": [
    "import sklearn.datasets\n",
    "\n",
    "np.random.seed(1)    # 设置随机种子\n",
    "X, Y = sklearn.datasets.make_moons(n_samples=200, noise=.2)    # 导入 make_moon 数据集，样本个数 m=200，噪声标准差为 0.2\n",
    "X, Y = X.T, Y.reshape(1, Y.shape[0])    # X shape: [2,200]，Y shape: [1,200]\n",
    "m = X.shape[1]    # 样本个数\n",
    "dim = X.shape[0]    # 特征维度"
   ]
  },
  {
   "cell_type": "code",
   "execution_count": 15,
   "metadata": {},
   "outputs": [
    {
     "name": "stdout",
     "output_type": "stream",
     "text": [
      "X shape:  (2, 200)\n",
      "Y shape:  (1, 200)\n"
     ]
    }
   ],
   "source": [
    "print('X shape: ', X.shape)\n",
    "print('Y shape: ', Y.shape)"
   ]
  },
  {
   "cell_type": "markdown",
   "metadata": {},
   "source": [
    "绘制数据分布散点图"
   ]
  },
  {
   "cell_type": "code",
   "execution_count": 16,
   "metadata": {},
   "outputs": [
    {
     "data": {
      "image/png": "[encoded data removed]",
      "text/plain": [
       "<Figure size 432x288 with 1 Axes>"
      ]
     },
     "metadata": {
      "needs_background": "light"
     },
     "output_type": "display_data"
    }
   ],
   "source": [
    "plt.scatter(X[0, Y[0,:]==0], X[1, Y[0,:]==0], c='r', marker='s')    # 负类\n",
    "plt.scatter(X[0, Y[0,:]==1], X[1, Y[0,:]==1], c='b', marker='o')    # 正类\n",
    "plt.show()"
   ]
  },
  {
   "cell_type": "markdown",
   "metadata": {},
   "source": [
    "### 参数初始化"
   ]
  },
  {
   "cell_type": "code",
   "execution_count": 17,
   "metadata": {},
   "outputs": [],
   "source": [
    "def initialize_parameters(n_x, n_h, n_y):\n",
    "    \"\"\"\n",
    "    函数输入：\n",
    "        - n_x：输入层维度\n",
    "        - n_h：隐藏层神经元个数\n",
    "        - n_y：输出层神经元个数\n",
    "    函数输出：\n",
    "        - parameters：存储参数字典，W1, b1, W2, b2\n",
    "    \"\"\"\n",
    "    \n",
    "    np.random.seed(0)    # 设置随机种子\n",
    "    \n",
    "    # 参数初始化\n",
    "    W1 = np.random.randn(n_h, n_x)\n",
    "    b1 = np.zeros((n_h, 1))\n",
    "    W2 = np.random.randn(n_y, n_h)\n",
    "    b2 = np.zeros((n_y, 1))\n",
    "    \n",
    "    parameters = {\n",
    "        'W1': W1,\n",
    "        'b1': b1,\n",
    "        'W2': W2,\n",
    "        'b2': b2\n",
    "    }\n",
    "    \n",
    "    return parameters"
   ]
  },
  {
   "cell_type": "markdown",
   "metadata": {},
   "source": [
    "### 前向传播"
   ]
  },
  {
   "cell_type": "markdown",
   "metadata": {},
   "source": [
    "定义 Sigmoid 激活函数："
   ]
  },
  {
   "cell_type": "code",
   "execution_count": 18,
   "metadata": {},
   "outputs": [],
   "source": [
    "def sigmoid(z):\n",
    "    \"\"\"\n",
    "    函数输入：\n",
    "        - z：激活函数输入，神经元线性输出\n",
    "        - a：激活函数输出，神经元非线性输出\n",
    "    \"\"\"\n",
    "    \n",
    "    a = 1 / (1 + np.exp(-z))\n",
    "    \n",
    "    return a"
   ]
  },
  {
   "cell_type": "markdown",
   "metadata": {},
   "source": [
    "定义前向传播函数："
   ]
  },
  {
   "cell_type": "code",
   "execution_count": 19,
   "metadata": {},
   "outputs": [],
   "source": [
    "def forward_propagation(X, parameters):\n",
    "    \"\"\"\n",
    "    函数输入：\n",
    "        - X：神经网络输入\n",
    "        - parameters：神经网络参数\n",
    "    函数输出：\n",
    "        - A2: 神经网络输出\n",
    "        - cache： 缓存，存储中间变量：Z1, A1, Z2, A2\n",
    "    \"\"\"\n",
    "    \n",
    "    # 神经网络参数\n",
    "    W1 = parameters['W1']\n",
    "    b1 = parameters['b1']\n",
    "    W2 = parameters['W2']\n",
    "    b2 = parameters['b2']\n",
    "    \n",
    "    # 输入层 —> 隐藏层\n",
    "    Z1 = np.dot(W1, X) + b1\n",
    "    A1 = np.tanh(Z1)\n",
    "    # 隐藏层 —> 输出层\n",
    "    Z2 = np.dot(W2, A1) + b2\n",
    "    A2 = sigmoid(Z2)\n",
    "    \n",
    "    cache = {\n",
    "        'Z1': Z1,\n",
    "        'A1': A1,\n",
    "        'Z2': Z2,\n",
    "        'A2': A2\n",
    "    }\n",
    "    \n",
    "    return A2, cache"
   ]
  },
  {
   "cell_type": "markdown",
   "metadata": {},
   "source": [
    "### 计算损失"
   ]
  },
  {
   "cell_type": "code",
   "execution_count": 20,
   "metadata": {},
   "outputs": [],
   "source": [
    "def compute_loss(A2, Y):\n",
    "    \"\"\"\n",
    "    函数输入：\n",
    "        - A2：神经网络输出\n",
    "        - Y：样本真实标签\n",
    "    函数输出：\n",
    "        - cost: 神经网络交叉熵损失\n",
    "    \"\"\"\n",
    "    \n",
    "    #样本个数\n",
    "    m = Y.shape[1]\n",
    "    \n",
    "    cross_entropy = -(Y * np.log(A2) + (1 - Y) * np.log(1 - A2))\n",
    "    cost = 1.0 / m * np.sum(cross_entropy)\n",
    "    \n",
    "    return cost"
   ]
  },
  {
   "cell_type": "markdown",
   "metadata": {},
   "source": [
    "### 反向传播"
   ]
  },
  {
   "cell_type": "code",
   "execution_count": 21,
   "metadata": {},
   "outputs": [],
   "source": [
    "def back_propagation(X, Y, parameters, cache):\n",
    "    \"\"\"\n",
    "    函数输入：\n",
    "        - X：神经网络输入\n",
    "        - Y：样本真实标签\n",
    "        - parameters: 网络参数\n",
    "        - cache: 缓存，存储中间变量：Z1, A1, Z2, A2\n",
    "    函数输出：\n",
    "        - grads: 神经网络参数梯度\n",
    "    \"\"\"\n",
    "    \n",
    "    # 样本个数\n",
    "    m = X.shape[1]\n",
    "    \n",
    "    # 神经网络参数\n",
    "    W1 = parameters['W1']\n",
    "    b1 = parameters['b1']\n",
    "    W2 = parameters['W2']\n",
    "    b2 = parameters['b2']\n",
    "    \n",
    "    # 中间变量\n",
    "    Z1 = cache['Z1']\n",
    "    A1 = cache['A1']\n",
    "    Z2 = cache['Z2']\n",
    "    A2 = cache['A2']\n",
    "    \n",
    "    # 计算梯度\n",
    "    dZ2 = A2 - Y\n",
    "    dW2 = 1.0 / m * np.dot(dZ2, A1.T)\n",
    "    db2 = 1.0 / m * np.sum(dZ2, axis=1, keepdims=True)\n",
    "    dZ1 = np.dot(W2.T, dZ2) * (1 - np.power(A1, 2))\n",
    "    dW1 = 1.0 / m * np.dot(dZ1, X.T)\n",
    "    db1 = 1.0 / m * np.sum(dZ1, axis=1, keepdims=True)\n",
    "    \n",
    "    grads = {\n",
    "        'dW1': dW1,\n",
    "        'db1': db1,\n",
    "        'dW2': dW2,\n",
    "        'db2': db2\n",
    "    }\n",
    "    \n",
    "    return grads"
   ]
  },
  {
   "cell_type": "markdown",
   "metadata": {},
   "source": [
    "### 更新参数"
   ]
  },
  {
   "cell_type": "code",
   "execution_count": 22,
   "metadata": {},
   "outputs": [],
   "source": [
    "def update_parameters(parameters, grads, learning_rate=0.1):\n",
    "    \"\"\"\n",
    "    函数输入：\n",
    "        - parameters: 网络参数\n",
    "        - grads: 神经网络参数梯度\n",
    "    函数输出：\n",
    "        - parameters: 网络参数\n",
    "    \"\"\"\n",
    "    \n",
    "    # 神经网络参数\n",
    "    W1 = parameters['W1']\n",
    "    b1 = parameters['b1']\n",
    "    W2 = parameters['W2']\n",
    "    b2 = parameters['b2']\n",
    "    \n",
    "    # 神经网络参数梯度\n",
    "    dW1 = grads['dW1']\n",
    "    db1 = grads['db1']\n",
    "    dW2 = grads['dW2']\n",
    "    db2 = grads['db2']\n",
    "    \n",
    "    # 梯度下降算法\n",
    "    W1 = W1 - learning_rate * dW1\n",
    "    b1 = b1 - learning_rate * db1\n",
    "    W2 = W2 - learning_rate * dW2\n",
    "    b2 = b2 - learning_rate * db2\n",
    "    \n",
    "    parameters = {\n",
    "        'W1': W1,\n",
    "        'b1': b1,\n",
    "        'W2': W2,\n",
    "        'b2': b2\n",
    "    }\n",
    "    \n",
    "    return parameters"
   ]
  },
  {
   "cell_type": "markdown",
   "metadata": {},
   "source": [
    "### 构建神经网络模型并训练"
   ]
  },
  {
   "cell_type": "markdown",
   "metadata": {},
   "source": [
    "定义模型："
   ]
  },
  {
   "cell_type": "code",
   "execution_count": 23,
   "metadata": {},
   "outputs": [],
   "source": [
    "def nn_model(X, Y, n_h=3, num_iterations=200, learning_rate=0.1):\n",
    "    \"\"\"\n",
    "    函数输入：\n",
    "        - X：神经网络输入\n",
    "        - Y：样本真实标签\n",
    "        - n_h: 隐藏层神经元个数\n",
    "        - num_iterations: 训练次数\n",
    "        - learning_rate: 学习率\n",
    "    函数输出：\n",
    "        - parameters: 训练完成后的网络参数\n",
    "    \"\"\"\n",
    "    \n",
    "    # 定义网络\n",
    "    n_x = X.shape[0]\n",
    "    n_y = 1\n",
    "    \n",
    "    # 参数初始化\n",
    "    parameters = initialize_parameters(n_x, n_h, n_y)\n",
    "    \n",
    "    # 迭代训练\n",
    "    for i in range(num_iterations):\n",
    "        # 正向传播\n",
    "        A2, cache = forward_propagation(X, parameters)\n",
    "    \n",
    "        # 计算交叉熵损失\n",
    "        cost = compute_loss(A2, Y)\n",
    "    \n",
    "        # 反向传播\n",
    "        grads = back_propagation(X, Y, parameters, cache)\n",
    "        \n",
    "        # 更新参数\n",
    "        parameters = update_parameters(parameters, grads, learning_rate)\n",
    "        \n",
    "        # print \n",
    "        if (i+1) % 20 == 0:\n",
    "            print('Iteration: %d, cost = %f' % (i+1, cost))\n",
    "    \n",
    "    return parameters"
   ]
  },
  {
   "cell_type": "markdown",
   "metadata": {},
   "source": [
    "训练："
   ]
  },
  {
   "cell_type": "code",
   "execution_count": 24,
   "metadata": {},
   "outputs": [
    {
     "name": "stdout",
     "output_type": "stream",
     "text": [
      "Iteration: 20, cost = 0.507616\n",
      "Iteration: 40, cost = 0.439151\n",
      "Iteration: 60, cost = 0.391370\n",
      "Iteration: 80, cost = 0.361023\n",
      "Iteration: 100, cost = 0.342224\n",
      "Iteration: 120, cost = 0.329463\n",
      "Iteration: 140, cost = 0.319611\n",
      "Iteration: 160, cost = 0.311118\n",
      "Iteration: 180, cost = 0.303405\n",
      "Iteration: 200, cost = 0.296525\n",
      "Iteration: 220, cost = 0.290603\n",
      "Iteration: 240, cost = 0.285411\n",
      "Iteration: 260, cost = 0.280535\n",
      "Iteration: 280, cost = 0.275642\n",
      "Iteration: 300, cost = 0.270521\n",
      "Iteration: 320, cost = 0.265057\n",
      "Iteration: 340, cost = 0.259190\n",
      "Iteration: 360, cost = 0.252913\n",
      "Iteration: 380, cost = 0.246268\n",
      "Iteration: 400, cost = 0.239345\n",
      "Iteration: 420, cost = 0.232268\n",
      "Iteration: 440, cost = 0.225162\n",
      "Iteration: 460, cost = 0.218133\n",
      "Iteration: 480, cost = 0.211262\n",
      "Iteration: 500, cost = 0.204605\n"
     ]
    }
   ],
   "source": [
    "parameters = nn_model(X, Y, n_h=3, \n",
    "                      num_iterations=500, \n",
    "                      learning_rate=0.2)"
   ]
  },
  {
   "cell_type": "markdown",
   "metadata": {},
   "source": [
    "### 预测模型"
   ]
  },
  {
   "cell_type": "markdown",
   "metadata": {},
   "source": [
    "定义预测函数："
   ]
  },
  {
   "cell_type": "code",
   "execution_count": 25,
   "metadata": {},
   "outputs": [],
   "source": [
    "def predict(X, parameters):\n",
    "    \"\"\"\n",
    "    函数输入：\n",
    "        - X：神经网络输入\n",
    "        - parameters: 训练完成后的网络参数\n",
    "    函数输出：\n",
    "        - Y_pred: 预测样本标签\n",
    "    \"\"\"\n",
    "    \n",
    "    # 神经网络参数\n",
    "    W1 = parameters['W1']\n",
    "    b1 = parameters['b1']\n",
    "    W2 = parameters['W2']\n",
    "    b2 = parameters['b2']\n",
    "    \n",
    "    # 输入层 —> 隐藏层\n",
    "    Z1 = np.dot(W1, X) + b1\n",
    "    A1 = np.tanh(Z1)\n",
    "    # 隐藏层 —> 输出层\n",
    "    Z2 = np.dot(W2, A1) + b2\n",
    "    A2 = sigmoid(Z2)\n",
    "    \n",
    "    # 预测标签\n",
    "    Y_pred = np.zeros((1, X.shape[1]))    # 初始化 Y_pred\n",
    "    Y_pred[A2 > 0.5] = 1    # Y_hat 大于 0.5 的预测为正类\n",
    "    \n",
    "    return Y_pred"
   ]
  },
  {
   "cell_type": "markdown",
   "metadata": {},
   "source": [
    "预测："
   ]
  },
  {
   "cell_type": "code",
   "execution_count": 26,
   "metadata": {},
   "outputs": [
    {
     "name": "stdout",
     "output_type": "stream",
     "text": [
      "[[0. 0. 0. 1. 1. 1. 0. 1. 0. 1. 1. 0. 1. 0. 1. 1. 1. 0. 1. 0. 0. 0. 0. 0.\n",
      "  0. 1. 0. 0. 1. 0. 0. 1. 1. 1. 1. 0. 1. 0. 0. 1. 1. 1. 1. 0. 0. 0. 1. 0.\n",
      "  1. 1. 0. 1. 1. 0. 0. 1. 1. 0. 1. 1. 1. 0. 0. 0. 0. 1. 1. 0. 0. 0. 0. 0.\n",
      "  1. 1. 1. 1. 0. 1. 0. 1. 1. 0. 0. 1. 1. 0. 0. 1. 1. 0. 0. 0. 1. 1. 1. 0.\n",
      "  1. 1. 1. 1. 0. 0. 0. 1. 0. 0. 0. 1. 1. 1. 1. 1. 0. 0. 0. 1. 0. 1. 0. 0.\n",
      "  0. 0. 1. 1. 1. 0. 1. 1. 1. 1. 0. 0. 1. 0. 1. 0. 1. 0. 1. 0. 1. 1. 1. 1.\n",
      "  0. 0. 0. 1. 1. 0. 0. 0. 0. 0. 0. 0. 1. 0. 1. 1. 1. 0. 1. 1. 1. 0. 0. 1.\n",
      "  1. 0. 0. 0. 0. 0. 1. 1. 0. 0. 0. 0. 1. 1. 1. 1. 1. 1. 0. 1. 0. 1. 0. 1.\n",
      "  1. 1. 0. 1. 1. 0. 1. 0.]]\n"
     ]
    }
   ],
   "source": [
    "Y_pred = predict(X, parameters)\n",
    "print(Y_pred)"
   ]
  },
  {
   "cell_type": "markdown",
   "metadata": {},
   "source": [
    "计算预测准确率"
   ]
  },
  {
   "cell_type": "code",
   "execution_count": 27,
   "metadata": {},
   "outputs": [
    {
     "name": "stdout",
     "output_type": "stream",
     "text": [
      "0.94\n"
     ]
    }
   ],
   "source": [
    "accuracy = np.mean(Y_pred == Y)\n",
    "print(accuracy)"
   ]
  },
  {
   "cell_type": "markdown",
   "metadata": {},
   "source": [
    "绘制分类直线，可视化分类效果"
   ]
  },
  {
   "cell_type": "code",
   "execution_count": 28,
   "metadata": {},
   "outputs": [
    {
     "data": {
      "image/png": "[encoded data removed]",
      "text/plain": [
       "<Figure size 432x288 with 1 Axes>"
      ]
     },
     "metadata": {
      "needs_background": "light"
     },
     "output_type": "display_data"
    }
   ],
   "source": [
    "from matplotlib.colors import ListedColormap\n",
    "    \n",
    "x_min, x_max = X[0, :].min() - 0.5, X[0, :].max() + 0.5\n",
    "y_min, y_max = X[1, :].min() - 0.5, X[1, :].max() + 0.5\n",
    "step = 0.001\n",
    "xx, yy = np.meshgrid(np.arange(x_min, x_max, step), np.arange(y_min, y_max, step))\n",
    "Z = predict(np.c_[xx.ravel(), yy.ravel()].T, parameters)\n",
    "Z = Z.reshape(xx.shape)\n",
    "plt.contourf(xx, yy, Z, cmap=plt.cm.Spectral)    # 绘制边界\n",
    "plt.scatter(X[0, Y[0,:]==0], X[1, Y[0,:]==0], c='g', marker='s', label='负类')    # 负类\n",
    "plt.scatter(X[0, Y[0,:]==1], X[1, Y[0,:]==1], c='y', marker='o', label='正类')    # 正类\n",
    "plt.legend()\n",
    "plt.show()"
   ]
  },
  {
   "cell_type": "code",
   "execution_count": null,
   "metadata": {},
   "outputs": [],
   "source": []
  }
 ],
 "metadata": {
  "kernelspec": {
   "display_name": "Python 3",
   "language": "python",
   "name": "python3"
  },
  "language_info": {
   "codemirror_mode": {
    "name": "ipython",
    "version": 3
   },
   "file_extension": ".py",
   "mimetype": "text/x-python",
   "name": "python",
   "nbconvert_exporter": "python",
   "pygments_lexer": "ipython3",
   "version": "3.5.6"
  }
 },
 "nbformat": 4,
 "nbformat_minor": 2
}
